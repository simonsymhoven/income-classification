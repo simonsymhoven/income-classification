{
 "cells": [
  {
   "attachments": {},
   "cell_type": "markdown",
   "metadata": {},
   "source": [
    "# Income Classification"
   ]
  },
  {
   "attachments": {},
   "cell_type": "markdown",
   "metadata": {},
   "source": [
    "Original Dataset: https://archive.ics.uci.edu/ml/datasets/adult"
   ]
  },
  {
   "attachments": {},
   "cell_type": "markdown",
   "metadata": {},
   "source": [
    "### Imports"
   ]
  },
  {
   "cell_type": "code",
   "execution_count": 5,
   "metadata": {},
   "outputs": [],
   "source": [
    "import pandas as pd"
   ]
  },
  {
   "attachments": {},
   "cell_type": "markdown",
   "metadata": {},
   "source": [
    "# Preparation"
   ]
  },
  {
   "attachments": {},
   "cell_type": "markdown",
   "metadata": {},
   "source": [
    "## Load data"
   ]
  },
  {
   "cell_type": "code",
   "execution_count": 30,
   "metadata": {},
   "outputs": [
    {
     "name": "stdout",
     "output_type": "stream",
     "text": [
      "Train Dataset Size: 32561 (66.67%)\n",
      "Test Dataset Size: 16281 (33.33%)\n"
     ]
    }
   ],
   "source": [
    "train_df = pd.read_csv('adult.data', delimiter=',', skipinitialspace=True)\n",
    "test_df = pd.read_csv('adult.test', delimiter=',', skipinitialspace=True)\n",
    "\n",
    "train_df_size = train_df.shape[0]\n",
    "test_df_size = test_df.shape[0]\n",
    "df_size = train_df_size + test_df_size\n",
    "\n",
    "print(f'Train Dataset Size: {train_df_size} ({(train_df_size/df_size):.2%})')\n",
    "print(f'Test Dataset Size: {test_df_size} ({(test_df_size/df_size):.2%})')"
   ]
  },
  {
   "attachments": {},
   "cell_type": "markdown",
   "metadata": {},
   "source": [
    "## Pre Processing"
   ]
  },
  {
   "attachments": {},
   "cell_type": "markdown",
   "metadata": {},
   "source": [
    "First we need to label the data with ones for income >50k and zeros for income <=50k."
   ]
  },
  {
   "cell_type": "code",
   "execution_count": 32,
   "metadata": {},
   "outputs": [],
   "source": [
    "train_df['income'] = train_df['income'].apply(lambda x: 1 if x == '>50K' else 0)\n",
    "test_df['income'] = test_df['income'].apply(lambda x: 1 if x == '>50K' else 0)"
   ]
  }
 ],
 "metadata": {
  "kernelspec": {
   "display_name": ".venv",
   "language": "python",
   "name": "python3"
  },
  "language_info": {
   "codemirror_mode": {
    "name": "ipython",
    "version": 3
   },
   "file_extension": ".py",
   "mimetype": "text/x-python",
   "name": "python",
   "nbconvert_exporter": "python",
   "pygments_lexer": "ipython3",
   "version": "3.9.16"
  },
  "orig_nbformat": 4
 },
 "nbformat": 4,
 "nbformat_minor": 2
}
